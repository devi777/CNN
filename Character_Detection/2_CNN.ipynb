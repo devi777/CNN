{
  "nbformat": 4,
  "nbformat_minor": 0,
  "metadata": {
    "kernelspec": {
      "display_name": "Python 3",
      "language": "python",
      "name": "python3"
    },
    "language_info": {
      "codemirror_mode": {
        "name": "ipython",
        "version": 3
      },
      "file_extension": ".py",
      "mimetype": "text/x-python",
      "name": "python",
      "nbconvert_exporter": "python",
      "pygments_lexer": "ipython3",
      "version": "3.7.7"
    },
    "colab": {
      "name": "2_CNN.ipynb",
      "provenance": [],
      "include_colab_link": true
    }
  },
  "cells": [
    {
      "cell_type": "markdown",
      "metadata": {
        "id": "view-in-github",
        "colab_type": "text"
      },
      "source": [
        "<a href=\"https://colab.research.google.com/github/devi777/CNN/blob/master/2_CNN.ipynb\" target=\"_parent\"><img src=\"https://colab.research.google.com/assets/colab-badge.svg\" alt=\"Open In Colab\"/></a>"
      ]
    },
    {
      "cell_type": "markdown",
      "metadata": {
        "id": "XCdcBPP3-pof",
        "colab_type": "text"
      },
      "source": [
        "# MNIST Character Detection Database "
      ]
    },
    {
      "cell_type": "markdown",
      "metadata": {
        "id": "yfSf1kDg-pog",
        "colab_type": "text"
      },
      "source": [
        "MNIST (\"Modified National Institute of Standards and Technology\") is the de facto “Hello World” dataset of computer vision.\n",
        "The MNIST database of handwritten digits, available from this page, has a training set of 60,000 examples, and a test set of 10,000 examples. It is a subset of a larger set available from NIST. The digits have been size-normalized and centered in a fixed-size image."
      ]
    },
    {
      "cell_type": "markdown",
      "metadata": {
        "id": "0ER2QB1d-poh",
        "colab_type": "text"
      },
      "source": [
        "Dataset: https://www.kaggle.com/oddrationale/mnist-in-csv"
      ]
    },
    {
      "cell_type": "markdown",
      "metadata": {
        "id": "QuUSajMd-poh",
        "colab_type": "text"
      },
      "source": [
        "# Importing the Dataset"
      ]
    },
    {
      "cell_type": "code",
      "metadata": {
        "id": "rrDeNfJ3-poi",
        "colab_type": "code",
        "colab": {}
      },
      "source": [
        "import tensorflow as tf\n",
        "(x_train, y_train), (x_test, y_test) = tf.keras.datasets.mnist.load_data()"
      ],
      "execution_count": 0,
      "outputs": []
    },
    {
      "cell_type": "code",
      "metadata": {
        "id": "6Fbcg3RZ-pom",
        "colab_type": "code",
        "colab": {},
        "outputId": "e6036528-76a6-4dbe-becb-c8b6f32c2791"
      },
      "source": [
        "import matplotlib.pyplot as plt\n",
        "%matplotlib inline \n",
        "image_index = 7777 \n",
        "print(y_train[image_index]) # The label is 8\n",
        "plt.imshow(x_train[image_index], cmap='Greys')"
      ],
      "execution_count": 0,
      "outputs": [
        {
          "output_type": "stream",
          "text": [
            "8\n"
          ],
          "name": "stdout"
        },
        {
          "output_type": "execute_result",
          "data": {
            "text/plain": [
              "<matplotlib.image.AxesImage at 0x1c72a80bf48>"
            ]
          },
          "metadata": {
            "tags": []
          },
          "execution_count": 2
        },
        {
          "output_type": "display_data",
          "data": {
            "image/png": "[encoded data removed]",
            "text/plain": [
              "<Figure size 432x288 with 1 Axes>"
            ]
          },
          "metadata": {
            "tags": [],
            "needs_background": "light"
          }
        }
      ]
    },
    {
      "cell_type": "code",
      "metadata": {
        "id": "gfY6aEqu-poq",
        "colab_type": "code",
        "colab": {},
        "outputId": "60f392a5-e89d-4f52-9e04-e24c7505e48f"
      },
      "source": [
        "from matplotlib import pyplot\n",
        "# summarize loaded dataset\n",
        "print('Train: X=%s, y=%s' % (x_train.shape, y_train.shape))\n",
        "print('Test: X=%s, y=%s' % (x_test.shape, y_test.shape))\n",
        "# plot first few images\n",
        "for i in range(9):\n",
        "    # define subplot\n",
        "    pyplot.subplot(330 + 1 + i)\n",
        "    # plot raw pixel data\n",
        "    pyplot.imshow(x_train[i], cmap=pyplot.get_cmap('gray'))\n",
        "# show the figur"
      ],
      "execution_count": 0,
      "outputs": [
        {
          "output_type": "stream",
          "text": [
            "Train: X=(60000, 28, 28), y=(60000,)\n",
            "Test: X=(10000, 28, 28), y=(10000,)\n"
          ],
          "name": "stdout"
        },
        {
          "output_type": "display_data",
          "data": {
            "image/png": "[encoded data removed]",
            "text/plain": [
              "<Figure size 432x288 with 9 Axes>"
            ]
          },
          "metadata": {
            "tags": [],
            "needs_background": "light"
          }
        }
      ]
    },
    {
      "cell_type": "markdown",
      "metadata": {
        "id": "RdgOuKtt-pot",
        "colab_type": "text"
      },
      "source": [
        "\"You always have to give a 4D array as input to the CNN. So input data has a shape of (batch_size, height, width, depth), where the first dimension represents the batch size of the image and the other three dimensions represent dimensions of the image which are height, width, and depth. For some of you who are wondering what is the depth of the image, it’s nothing but the number of color channels. For example, an RGB image would have a depth of 3, and the greyscale image would have a depth of 1.\""
      ]
    },
    {
      "cell_type": "code",
      "metadata": {
        "id": "h2QeBHXr-pot",
        "colab_type": "code",
        "colab": {},
        "outputId": "c28296ac-d060-409c-f7ab-39577a630665"
      },
      "source": [
        "x_train.shape"
      ],
      "execution_count": 0,
      "outputs": [
        {
          "output_type": "execute_result",
          "data": {
            "text/plain": [
              "(60000, 28, 28)"
            ]
          },
          "metadata": {
            "tags": []
          },
          "execution_count": 3
        }
      ]
    },
    {
      "cell_type": "code",
      "metadata": {
        "id": "E_MIbBRl-pow",
        "colab_type": "code",
        "colab": {},
        "outputId": "474001d3-6a10-4bae-9094-d5de7e8e4527"
      },
      "source": [
        "type(x_train)"
      ],
      "execution_count": 0,
      "outputs": [
        {
          "output_type": "execute_result",
          "data": {
            "text/plain": [
              "numpy.ndarray"
            ]
          },
          "metadata": {
            "tags": []
          },
          "execution_count": 18
        }
      ]
    },
    {
      "cell_type": "markdown",
      "metadata": {
        "id": "GB-4WWyL-poz",
        "colab_type": "text"
      },
      "source": [
        "### CNN Inputs & Outputs\n",
        "- You always have to feed a 4D array of shape (batch_size, height, width, depth) to the CNN.\n",
        "- Output data from CNN is also a 4D array of shape (batch_size, height, width, depth).\n",
        "- To add a Dense layer on top of the CNN layer, we have to change the 4D output of CNN to 2D using a Flatten layer."
      ]
    },
    {
      "cell_type": "code",
      "metadata": {
        "id": "aUA2EctY-poz",
        "colab_type": "code",
        "colab": {},
        "outputId": "194fbcfa-5634-4d1c-9de6-c1a1385d13ab"
      },
      "source": [
        "# Reshaping the array to 4-dims so that it can work with the Keras API\n",
        "x_train = x_train.reshape(x_train.shape[0], 28, 28, 1)\n",
        "x_test = x_test.reshape(x_test.shape[0], 28, 28, 1)\n",
        "input_shape = (28, 28, 1)\n",
        "# Making sure that the values are float so that we can get decimal points after division\n",
        "x_train = x_train.astype('float32')\n",
        "x_test = x_test.astype('float32')\n",
        "# Normalizing the RGB codes by dividing it to the max RGB value.\n",
        "x_train /= 255\n",
        "x_test /= 255\n",
        "print('x_train shape:', x_train.shape)\n",
        "print('Number of images in x_train', x_train.shape[0])\n",
        "print('Number of images in x_test', x_test.shape[0])"
      ],
      "execution_count": 0,
      "outputs": [
        {
          "output_type": "stream",
          "text": [
            "x_train shape: (60000, 28, 28, 1)\n",
            "Number of images in x_train 60000\n",
            "Number of images in x_test 10000\n"
          ],
          "name": "stdout"
        }
      ]
    },
    {
      "cell_type": "markdown",
      "metadata": {
        "id": "cfxcU3Kc-po2",
        "colab_type": "text"
      },
      "source": [
        "# Building the CNN Network"
      ]
    },
    {
      "cell_type": "code",
      "metadata": {
        "id": "7lFKj3gU-po3",
        "colab_type": "code",
        "colab": {},
        "outputId": "0fd29f0f-f7e3-4620-d72d-cb3146410e48"
      },
      "source": [
        "# Importing the Keras libraries and packages\n",
        "from keras.models import Sequential\n",
        "from keras.layers import Conv2D\n",
        "from keras.layers import MaxPooling2D\n",
        "from keras.layers import Flatten\n",
        "from keras.layers import Dropout\n",
        "from keras.layers import Dense"
      ],
      "execution_count": 0,
      "outputs": [
        {
          "output_type": "stream",
          "text": [
            "Using TensorFlow backend.\n"
          ],
          "name": "stderr"
        }
      ]
    },
    {
      "cell_type": "code",
      "metadata": {
        "id": "lDQJB0cZ-po5",
        "colab_type": "code",
        "colab": {}
      },
      "source": [
        "# Initialising the CNN\n",
        "classifier = Sequential()\n",
        "\n",
        "# Step 1 - Convolution\n",
        "classifier.add(Conv2D(28, kernel_size=(3,3), input_shape=input_shape))\n",
        "\n",
        "# Step 2 - Pooling\n",
        "classifier.add(MaxPooling2D(pool_size = (2, 2)))\n",
        "\n",
        "# Step 3 - Flattening\n",
        "classifier.add(Flatten())\n",
        "\n",
        "# Step 4 - Full connection\n",
        "classifier.add(Dense(128, activation = 'relu'))\n",
        "classifier.add(Dropout(0.2))\n",
        "classifier.add(Dense(10, activation = 'softmax'))"
      ],
      "execution_count": 0,
      "outputs": []
    },
    {
      "cell_type": "code",
      "metadata": {
        "id": "Lt52jQRj-po8",
        "colab_type": "code",
        "colab": {},
        "outputId": "56e28931-4858-4667-d20f-8ba88f26fa92"
      },
      "source": [
        "classifier.compile(optimizer='adam', \n",
        "              loss='sparse_categorical_crossentropy', \n",
        "              metrics=['accuracy'])\n",
        "\n",
        "# Compiling the CNN\n",
        "classifier.fit(x=x_train,y=y_train, epochs=10)"
      ],
      "execution_count": 0,
      "outputs": [
        {
          "output_type": "stream",
          "text": [
            "Epoch 1/10\n",
            "60000/60000 [==============================] - 40s 659us/step - loss: 0.2070 - accuracy: 0.9381\n",
            "Epoch 2/10\n",
            "60000/60000 [==============================] - 38s 630us/step - loss: 0.0849 - accuracy: 0.9741\n",
            "Epoch 3/10\n",
            "60000/60000 [==============================] - 33s 558us/step - loss: 0.0575 - accuracy: 0.9819\n",
            "Epoch 4/10\n",
            "60000/60000 [==============================] - 34s 570us/step - loss: 0.0445 - accuracy: 0.9855\n",
            "Epoch 5/10\n",
            "60000/60000 [==============================] - 34s 559us/step - loss: 0.0361 - accuracy: 0.9879\n",
            "Epoch 6/10\n",
            "60000/60000 [==============================] - 34s 559us/step - loss: 0.0295 - accuracy: 0.9901\n",
            "Epoch 7/10\n",
            "60000/60000 [==============================] - 34s 575us/step - loss: 0.0249 - accuracy: 0.9913\n",
            "Epoch 8/10\n",
            "60000/60000 [==============================] - 33s 557us/step - loss: 0.0229 - accuracy: 0.9917\n",
            "Epoch 9/10\n",
            "60000/60000 [==============================] - 33s 557us/step - loss: 0.0199 - accuracy: 0.9929\n",
            "Epoch 10/10\n",
            "60000/60000 [==============================] - 33s 558us/step - loss: 0.0197 - accuracy: 0.9935\n"
          ],
          "name": "stdout"
        },
        {
          "output_type": "execute_result",
          "data": {
            "text/plain": [
              "<keras.callbacks.callbacks.History at 0x1c72982bac8>"
            ]
          },
          "metadata": {
            "tags": []
          },
          "execution_count": 11
        }
      ]
    },
    {
      "cell_type": "code",
      "metadata": {
        "id": "mp30P8Oq-po-",
        "colab_type": "code",
        "colab": {},
        "outputId": "e1e27e31-4b40-4d7c-b5ab-1275bc7e8959"
      },
      "source": [
        "classifier.evaluate(x_test, y_test)"
      ],
      "execution_count": 0,
      "outputs": [
        {
          "output_type": "stream",
          "text": [
            "10000/10000 [==============================] - 1s 110us/step\n"
          ],
          "name": "stdout"
        },
        {
          "output_type": "execute_result",
          "data": {
            "text/plain": [
              "[0.05619290517440377, 0.9848999977111816]"
            ]
          },
          "metadata": {
            "tags": []
          },
          "execution_count": 12
        }
      ]
    },
    {
      "cell_type": "markdown",
      "metadata": {
        "id": "GuzsU96Y-ppA",
        "colab_type": "text"
      },
      "source": [
        "Great. So, we got a beautiful accuracy of 98.6% on our model. "
      ]
    },
    {
      "cell_type": "markdown",
      "metadata": {
        "id": "fEGnFE4a-ppB",
        "colab_type": "text"
      },
      "source": [
        "## Predicting Individual Characters"
      ]
    },
    {
      "cell_type": "code",
      "metadata": {
        "id": "1VMCOT4G-ppC",
        "colab_type": "code",
        "colab": {},
        "outputId": "4f02f306-8204-4f73-b097-407c6a7a2724"
      },
      "source": [
        "img_rows = 28\n",
        "img_cols = 28\n",
        "image_index = 7344\n",
        "plt.imshow(x_test[image_index].reshape(28, 28),cmap='Greys')\n",
        "pred = classifier.predict(x_test[image_index].reshape(1, img_rows, img_cols, 1))\n",
        "print(pred.argmax())"
      ],
      "execution_count": 0,
      "outputs": [
        {
          "output_type": "stream",
          "text": [
            "1\n"
          ],
          "name": "stdout"
        },
        {
          "output_type": "display_data",
          "data": {
            "image/png": "[encoded data removed]",
            "text/plain": [
              "<Figure size 432x288 with 1 Axes>"
            ]
          },
          "metadata": {
            "tags": [],
            "needs_background": "light"
          }
        }
      ]
    },
    {
      "cell_type": "code",
      "metadata": {
        "id": "uWKIRXH_-ppE",
        "colab_type": "code",
        "colab": {},
        "outputId": "c5cfd6a1-da47-4867-bb6a-c09ad28a9fb8"
      },
      "source": [
        "img_rows = 28\n",
        "img_cols = 28\n",
        "image_index = 3344\n",
        "plt.imshow(x_test[image_index].reshape(28, 28),cmap='Greys')\n",
        "pred = classifier.predict(x_test[image_index].reshape(1, img_rows, img_cols, 1))\n",
        "print(pred.argmax())"
      ],
      "execution_count": 0,
      "outputs": [
        {
          "output_type": "stream",
          "text": [
            "6\n"
          ],
          "name": "stdout"
        },
        {
          "output_type": "display_data",
          "data": {
            "image/png": "[encoded data removed]",
            "text/plain": [
              "<Figure size 432x288 with 1 Axes>"
            ]
          },
          "metadata": {
            "tags": [],
            "needs_background": "light"
          }
        }
      ]
    }
  ]
}
